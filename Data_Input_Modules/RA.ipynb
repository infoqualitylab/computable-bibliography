{
 "cells": [
  {
   "cell_type": "markdown",
   "id": "b1031e22",
   "metadata": {},
   "source": [
    "# Data Input Modules\n",
    "\n",
    "## DOI Retreival using title fuzzy match and author name"
   ]
  },
  {
   "cell_type": "code",
   "execution_count": 4,
   "id": "177dc946",
   "metadata": {},
   "outputs": [],
   "source": [
    "import pandas as pd\n",
    "import json\n",
    "import requests"
   ]
  },
  {
   "cell_type": "code",
   "execution_count": 3,
   "id": "5c56683f",
   "metadata": {},
   "outputs": [],
   "source": [
    "def getdoi(author, title):\n",
    "    title = title.replace(\" \", \"+\")\n",
    "    q = \"https://api.crossref.org/works/?query.title=\" + title + '&query.author='\n",
    "    if (author != None and (type(author) == str or type(auhtor) == list)):\n",
    "        \n",
    "        if (type(author) == list):\n",
    "            q = q + author[0]\n",
    "        else:\n",
    "            q = q + author\n",
    "        \n",
    "        val = \"Not Found\"\n",
    "        response = requests.get(q)\n",
    "        if response.status_code == 200:\n",
    "            x = json.loads(response.content.decode('utf-8'))['message']\n",
    "            val = x['items'][0]['DOI']\n",
    "            \n",
    "        return val"
   ]
  },
  {
   "cell_type": "code",
   "execution_count": 4,
   "id": "a3e1421d",
   "metadata": {},
   "outputs": [
    {
     "data": {
      "text/plain": [
       "'10.1080/10447318.2015.1070549'"
      ]
     },
     "execution_count": 4,
     "metadata": {},
     "output_type": "execute_result"
    }
   ],
   "source": [
    "getdoi(\"Choi\", \"Investigating the importance of trust on adopting an autonomous vehicle\")"
   ]
  },
  {
   "cell_type": "markdown",
   "id": "c89e4b77",
   "metadata": {},
   "source": [
    "### Programatically from a csv\n",
    "\n",
    "Make sure the cells above have been run. Make sure encoding is correctly set, or function will not run properly"
   ]
  },
  {
   "cell_type": "code",
   "execution_count": null,
   "id": "a3771c7c",
   "metadata": {},
   "outputs": [],
   "source": [
    "csv_file = \"\"\n",
    "df = pd.read_csv(csv_file, encoding = 'utf-8')"
   ]
  },
  {
   "cell_type": "code",
   "execution_count": null,
   "id": "cd772f65",
   "metadata": {},
   "outputs": [],
   "source": [
    "df2 = pd.DataFrame()\n",
    "\n",
    "df2['title'] = df.title\n",
    "\n",
    "doi = []\n",
    "for i in range(len(df)):\n",
    "    doi.append('')\n",
    "\n",
    "df2['doi'] = doi\n",
    "\n",
    "for i in range (0, len(df)):\n",
    "    author = df['author'][i]\n",
    "    title = df['title'][i]\n",
    "    df2['doi'][i] = getdoi(author, title)"
   ]
  },
  {
   "cell_type": "code",
   "execution_count": null,
   "id": "649af9c6",
   "metadata": {},
   "outputs": [],
   "source": [
    "df2.to_csv('funders.csv')"
   ]
  },
  {
   "cell_type": "markdown",
   "id": "121bc4ab",
   "metadata": {},
   "source": [
    "## PubMed to DOI"
   ]
  },
  {
   "cell_type": "code",
   "execution_count": 19,
   "id": "d4956df3",
   "metadata": {},
   "outputs": [],
   "source": [
    "import xmltodict"
   ]
  },
  {
   "cell_type": "code",
   "execution_count": 21,
   "id": "0eced664",
   "metadata": {},
   "outputs": [],
   "source": [
    "def pubmedtodoi(id):\n",
    "    q = 'https://eutils.ncbi.nlm.nih.gov/entrez/eutils/esummary.fcgi?db=pubmed&id=' + id + '&version=2.0'\n",
    "    response = requests.get(q)\n",
    "    val = \"Not Found\"\n",
    "    if response.status_code == 200:\n",
    "        x = response.content.decode('utf-8')\n",
    "        x = xmltodict.parse(x)\n",
    "        x = x['eSummaryResult']['DocumentSummarySet']['DocumentSummary']['ArticleIds']['ArticleId'][1]\n",
    "        val = x['Value']\n",
    "        \n",
    "    return val"
   ]
  },
  {
   "cell_type": "code",
   "execution_count": 22,
   "id": "0374b208",
   "metadata": {},
   "outputs": [
    {
     "data": {
      "text/plain": [
       "'10.1016/0005-2736(76)90433-8'"
      ]
     },
     "execution_count": 22,
     "metadata": {},
     "output_type": "execute_result"
    }
   ],
   "source": [
    "pubmedtodoi(\"2324\")"
   ]
  },
  {
   "cell_type": "code",
   "execution_count": null,
   "id": "64ee5c5c",
   "metadata": {},
   "outputs": [],
   "source": []
  }
 ],
 "metadata": {
  "kernelspec": {
   "display_name": "Python 3 (ipykernel)",
   "language": "python",
   "name": "python3"
  },
  "language_info": {
   "codemirror_mode": {
    "name": "ipython",
    "version": 3
   },
   "file_extension": ".py",
   "mimetype": "text/x-python",
   "name": "python",
   "nbconvert_exporter": "python",
   "pygments_lexer": "ipython3",
   "version": "3.10.9"
  }
 },
 "nbformat": 4,
 "nbformat_minor": 5
}
