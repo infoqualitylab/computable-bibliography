{
 "cells": [
  {
   "cell_type": "markdown",
   "id": "b1031e22",
   "metadata": {},
   "source": [
    "# Data Input Modules\n",
    "\n",
    "## DOI Retreival using title fuzzy match and author name"
   ]
  },
  {
   "cell_type": "code",
   "execution_count": 3,
   "id": "177dc946",
   "metadata": {},
   "outputs": [],
   "source": [
    "import pandas as pd\n",
    "import json\n",
    "import requests\n",
    "import inputmodules"
   ]
  },
  {
   "cell_type": "code",
   "execution_count": 4,
   "id": "a3e1421d",
   "metadata": {},
   "outputs": [
    {
     "data": {
      "text/plain": [
       "'10.1080/10447318.2015.1070549'"
      ]
     },
     "execution_count": 4,
     "metadata": {},
     "output_type": "execute_result"
    }
   ],
   "source": [
    "inputmodules.getdoi(\"Choi\", \"Investigating the importance of trust on adopting an autonomous vehicle\")"
   ]
  },
  {
   "cell_type": "markdown",
   "id": "c89e4b77",
   "metadata": {},
   "source": [
    "### Programatically from a csv\n",
    "\n",
    "Make sure the cells above have been run. Make sure encoding is correctly set, or function will not run properly"
   ]
  },
  {
   "cell_type": "code",
   "execution_count": 1,
   "id": "a3771c7c",
   "metadata": {},
   "outputs": [
    {
     "ename": "NameError",
     "evalue": "name 'pd' is not defined",
     "output_type": "error",
     "traceback": [
      "\u001b[1;31m---------------------------------------------------------------------------\u001b[0m",
      "\u001b[1;31mNameError\u001b[0m                                 Traceback (most recent call last)",
      "Cell \u001b[1;32mIn[1], line 2\u001b[0m\n\u001b[0;32m      1\u001b[0m csv_file \u001b[38;5;241m=\u001b[39m \u001b[38;5;124m\"\u001b[39m\u001b[38;5;124mcsv-Calcitonin-set-filtered.csv\u001b[39m\u001b[38;5;124m\"\u001b[39m\n\u001b[1;32m----> 2\u001b[0m df \u001b[38;5;241m=\u001b[39m \u001b[43mpd\u001b[49m\u001b[38;5;241m.\u001b[39mread_csv(csv_file, encoding \u001b[38;5;241m=\u001b[39m \u001b[38;5;124m'\u001b[39m\u001b[38;5;124mutf-8\u001b[39m\u001b[38;5;124m'\u001b[39m)\n\u001b[0;32m      3\u001b[0m df \u001b[38;5;241m=\u001b[39m df\u001b[38;5;241m.\u001b[39mhead(\u001b[38;5;241m10\u001b[39m)\n\u001b[0;32m      4\u001b[0m df\n",
      "\u001b[1;31mNameError\u001b[0m: name 'pd' is not defined"
     ]
    }
   ],
   "source": [
    "csv_file = \"csv-Calcitonin-set-filtered.csv\"\n",
    "df = pd.read_csv(csv_file, encoding = 'utf-8')\n",
    "df = df.head(10)\n",
    "df"
   ]
  },
  {
   "cell_type": "code",
   "execution_count": null,
   "id": "cd772f65",
   "metadata": {},
   "outputs": [],
   "source": [
    "df2 = pd.DataFrame()\n",
    "\n",
    "df2['title'] = df.Title\n",
    "\n",
    "doi = []\n",
    "for i in range(len(df)):\n",
    "    doi.append('')\n",
    "\n",
    "df2['retreived doi'] = doi\n",
    "\n",
    "for i in range (0, len(df)):\n",
    "    author = df['First Author'][i]\n",
    "    title = df['Title'][i]\n",
    "    df2['retreived doi'][i] = inputmodules.getdoi(author, title)"
   ]
  },
  {
   "cell_type": "code",
   "execution_count": null,
   "id": "649af9c6",
   "metadata": {},
   "outputs": [],
   "source": [
    "df2.to_csv('Title_to_DOI.csv')"
   ]
  },
  {
   "cell_type": "markdown",
   "id": "121bc4ab",
   "metadata": {},
   "source": [
    "## PubMed to DOI"
   ]
  },
  {
   "cell_type": "code",
   "execution_count": null,
   "id": "d4956df3",
   "metadata": {},
   "outputs": [],
   "source": [
    "import xmltodict"
   ]
  },
  {
   "cell_type": "code",
   "execution_count": null,
   "id": "0eced664",
   "metadata": {},
   "outputs": [],
   "source": [
    "def pubmedtodoi(id):\n",
    "    q = 'https://eutils.ncbi.nlm.nih.gov/entrez/eutils/esummary.fcgi?db=pubmed&id=' + str(id) + '&version=2.0'\n",
    "    response = requests.get(q)\n",
    "    val = \"Not Found\"\n",
    "    if response.status_code == 200:\n",
    "        x = response.content.decode('utf-8')\n",
    "        x = xmltodict.parse(x)\n",
    "        try:\n",
    "            x = x['eSummaryResult']['DocumentSummarySet']['DocumentSummary']['ArticleIds']['ArticleId']\n",
    "            for i in x:\n",
    "                if i['IdType'] == \"doi\":\n",
    "                    val = i['Value']\n",
    "                    break\n",
    "\n",
    "        except:\n",
    "            return val\n",
    "\n",
    "    return val"
   ]
  },
  {
   "cell_type": "code",
   "execution_count": 3,
   "id": "0374b208",
   "metadata": {},
   "outputs": [
    {
     "data": {
      "text/plain": [
       "'10.1186/s10194-022-01431-x'"
      ]
     },
     "execution_count": 3,
     "metadata": {},
     "output_type": "execute_result"
    }
   ],
   "source": [
    "inputmodules.pubmedtodoi(\"35690723\")"
   ]
  },
  {
   "cell_type": "code",
   "execution_count": null,
   "id": "64ee5c5c",
   "metadata": {},
   "outputs": [],
   "source": [
    "csv_file = \"csv-Calcitonin-set-filtered.csv\"\n",
    "df = pd.read_csv(csv_file, encoding = 'utf-8')\n",
    "df = df.head(10)\n",
    "df2 = pd.DataFrame()\n",
    "\n",
    "df2['pmid'] = df.PMID\n",
    "\n",
    "doi = []\n",
    "for i in range(len(df)):\n",
    "    doi.append('')\n",
    "\n",
    "df2['doi'] = doi\n",
    "\n",
    "for i in range (0, len(df)):\n",
    "    pmid = df['PMID'][i]\n",
    "    df2['doi'][i] = inputmodules.pubmedtodoi(pmid)"
   ]
  },
  {
   "cell_type": "code",
   "execution_count": null,
   "id": "8e91a2dd",
   "metadata": {},
   "outputs": [],
   "source": [
    "df2.to_csv('PMID_to_DOI.csv')"
   ]
  },
  {
   "cell_type": "markdown",
   "id": "0c835489",
   "metadata": {},
   "source": [
    "# BIBTEX + RIS"
   ]
  },
  {
   "cell_type": "code",
   "execution_count": null,
   "id": "e550b524",
   "metadata": {},
   "outputs": [],
   "source": [
    "import bibtexparser"
   ]
  },
  {
   "cell_type": "code",
   "execution_count": null,
   "id": "715fc427",
   "metadata": {},
   "outputs": [],
   "source": [
    "def bibtodf(input):\n",
    "    y = open(input, \"r\", encoding = 'utf-8')\n",
    "    y = y.read()\n",
    "    y = bibtexparser.loads(y)\n",
    "    df = pd.DataFrame(y.entries)\n",
    "    return df"
   ]
  },
  {
   "cell_type": "code",
   "execution_count": null,
   "id": "24f01608",
   "metadata": {},
   "outputs": [],
   "source": [
    "inputmodules.bibtodf(\"Salt_SRRs.bib\")"
   ]
  },
  {
   "cell_type": "code",
   "execution_count": null,
   "id": "db49b9a9",
   "metadata": {},
   "outputs": [],
   "source": [
    "import rispy"
   ]
  },
  {
   "cell_type": "code",
   "execution_count": null,
   "id": "a3975c67",
   "metadata": {},
   "outputs": [],
   "source": [
    "def ristodf(input):\n",
    "    y = open(input, \"r\", encoding = \"utf-8\")\n",
    "    y = rispy.load(y)\n",
    "    df = pd.DataFrame(y)\n",
    "    return df"
   ]
  },
  {
   "cell_type": "code",
   "execution_count": null,
   "id": "bed51e36",
   "metadata": {},
   "outputs": [],
   "source": [
    "inputmodules.ristodf(\"Salt_SRRs.ris\")"
   ]
  },
  {
   "cell_type": "markdown",
   "id": "1aeed2be",
   "metadata": {},
   "source": [
    "# Raw Text"
   ]
  },
  {
   "cell_type": "code",
   "execution_count": 13,
   "id": "79ec4580",
   "metadata": {},
   "outputs": [],
   "source": [
    "def getdoifromcite(citation):\n",
    "    q = \"https://api.crossref.org/works/?query.bibliographic=\" + citation\n",
    "    val = \"Not Found\"\n",
    "    response = requests.get(q)\n",
    "    if response.status_code == 200:\n",
    "        x = json.loads(response.content.decode('utf-8'))['message']\n",
    "        x = x['items']\n",
    "        for i in x:\n",
    "            print(i['DOI'])\n",
    "        val = x[0]['DOI']\n",
    "        \n",
    "    return val"
   ]
  },
  {
   "cell_type": "code",
   "execution_count": 14,
   "id": "8b4e7b21",
   "metadata": {},
   "outputs": [
    {
     "name": "stdout",
     "output_type": "stream",
     "text": [
      "10.1186/s10194-022-01527-4\n",
      "10.1007/s11916-022-01083-1\n",
      "10.1007/s11916-019-0820-y\n",
      "10.1186/s10194-022-01437-5\n",
      "10.1007/s11916-019-0826-5\n",
      "10.1007/s10194-008-0081-3\n",
      "10.1186/s10194-022-01406-y\n",
      "10.1186/s10194-022-01404-0\n",
      "10.1111/head.v62.10\n",
      "10.1111/head.14395\n",
      "10.1007/s11916-022-01080-4\n",
      "10.1186/s10194-021-01371-y\n",
      "10.1186/s10194-022-01462-4\n",
      "10.1111/head.14164\n",
      "10.1186/s10194-022-01525-6\n",
      "10.1111/j.1526-4610.1983.hed2301010.x\n",
      "10.1007/s11916-022-01079-x\n",
      "10.1007/s11916-022-01086-y\n",
      "10.1007/s11916-019-0824-7\n",
      "10.1007/s11916-019-0825-6\n"
     ]
    },
    {
     "data": {
      "text/plain": [
       "'10.1186/s10194-022-01527-4'"
      ]
     },
     "execution_count": 14,
     "metadata": {},
     "output_type": "execute_result"
    }
   ],
   "source": [
    "getdoifromcite()"
   ]
  },
  {
   "cell_type": "code",
   "execution_count": 2,
   "id": "438c7b70",
   "metadata": {},
   "outputs": [
    {
     "name": "stderr",
     "output_type": "stream",
     "text": [
      "C:\\Users\\skamb\\AppData\\Local\\Temp\\ipykernel_24540\\2711963968.py:18: FutureWarning: ChainedAssignmentError: behaviour will change in pandas 3.0!\n",
      "You are setting values through chained assignment. Currently this works in certain cases, but when using Copy-on-Write (which will become the default behaviour in pandas 3.0) this will never work to update the original DataFrame or Series, because the intermediate object on which we are setting values will behave as a copy.\n",
      "A typical example is when you are setting values in a column of a DataFrame, like:\n",
      "\n",
      "df[\"col\"][row_indexer] = value\n",
      "\n",
      "Use `df.loc[row_indexer, \"col\"] = values` instead, to perform the assignment in a single step and ensure this keeps updating the original `df`.\n",
      "\n",
      "See the caveats in the documentation: https://pandas.pydata.org/pandas-docs/stable/user_guide/indexing.html#returning-a-view-versus-a-copy\n",
      "\n",
      "  df2['retreived cite'][i] = inputmodules.getdoifromcite(citation)\n",
      "C:\\Users\\skamb\\AppData\\Local\\Temp\\ipykernel_24540\\2711963968.py:18: FutureWarning: ChainedAssignmentError: behaviour will change in pandas 3.0!\n",
      "You are setting values through chained assignment. Currently this works in certain cases, but when using Copy-on-Write (which will become the default behaviour in pandas 3.0) this will never work to update the original DataFrame or Series, because the intermediate object on which we are setting values will behave as a copy.\n",
      "A typical example is when you are setting values in a column of a DataFrame, like:\n",
      "\n",
      "df[\"col\"][row_indexer] = value\n",
      "\n",
      "Use `df.loc[row_indexer, \"col\"] = values` instead, to perform the assignment in a single step and ensure this keeps updating the original `df`.\n",
      "\n",
      "See the caveats in the documentation: https://pandas.pydata.org/pandas-docs/stable/user_guide/indexing.html#returning-a-view-versus-a-copy\n",
      "\n",
      "  df2['retreived cite'][i] = inputmodules.getdoifromcite(citation)\n",
      "C:\\Users\\skamb\\AppData\\Local\\Temp\\ipykernel_24540\\2711963968.py:18: FutureWarning: ChainedAssignmentError: behaviour will change in pandas 3.0!\n",
      "You are setting values through chained assignment. Currently this works in certain cases, but when using Copy-on-Write (which will become the default behaviour in pandas 3.0) this will never work to update the original DataFrame or Series, because the intermediate object on which we are setting values will behave as a copy.\n",
      "A typical example is when you are setting values in a column of a DataFrame, like:\n",
      "\n",
      "df[\"col\"][row_indexer] = value\n",
      "\n",
      "Use `df.loc[row_indexer, \"col\"] = values` instead, to perform the assignment in a single step and ensure this keeps updating the original `df`.\n",
      "\n",
      "See the caveats in the documentation: https://pandas.pydata.org/pandas-docs/stable/user_guide/indexing.html#returning-a-view-versus-a-copy\n",
      "\n",
      "  df2['retreived cite'][i] = inputmodules.getdoifromcite(citation)\n",
      "C:\\Users\\skamb\\AppData\\Local\\Temp\\ipykernel_24540\\2711963968.py:18: FutureWarning: ChainedAssignmentError: behaviour will change in pandas 3.0!\n",
      "You are setting values through chained assignment. Currently this works in certain cases, but when using Copy-on-Write (which will become the default behaviour in pandas 3.0) this will never work to update the original DataFrame or Series, because the intermediate object on which we are setting values will behave as a copy.\n",
      "A typical example is when you are setting values in a column of a DataFrame, like:\n",
      "\n",
      "df[\"col\"][row_indexer] = value\n",
      "\n",
      "Use `df.loc[row_indexer, \"col\"] = values` instead, to perform the assignment in a single step and ensure this keeps updating the original `df`.\n",
      "\n",
      "See the caveats in the documentation: https://pandas.pydata.org/pandas-docs/stable/user_guide/indexing.html#returning-a-view-versus-a-copy\n",
      "\n",
      "  df2['retreived cite'][i] = inputmodules.getdoifromcite(citation)\n",
      "C:\\Users\\skamb\\AppData\\Local\\Temp\\ipykernel_24540\\2711963968.py:18: FutureWarning: ChainedAssignmentError: behaviour will change in pandas 3.0!\n",
      "You are setting values through chained assignment. Currently this works in certain cases, but when using Copy-on-Write (which will become the default behaviour in pandas 3.0) this will never work to update the original DataFrame or Series, because the intermediate object on which we are setting values will behave as a copy.\n",
      "A typical example is when you are setting values in a column of a DataFrame, like:\n",
      "\n",
      "df[\"col\"][row_indexer] = value\n",
      "\n",
      "Use `df.loc[row_indexer, \"col\"] = values` instead, to perform the assignment in a single step and ensure this keeps updating the original `df`.\n",
      "\n",
      "See the caveats in the documentation: https://pandas.pydata.org/pandas-docs/stable/user_guide/indexing.html#returning-a-view-versus-a-copy\n",
      "\n",
      "  df2['retreived cite'][i] = inputmodules.getdoifromcite(citation)\n",
      "C:\\Users\\skamb\\AppData\\Local\\Temp\\ipykernel_24540\\2711963968.py:18: FutureWarning: ChainedAssignmentError: behaviour will change in pandas 3.0!\n",
      "You are setting values through chained assignment. Currently this works in certain cases, but when using Copy-on-Write (which will become the default behaviour in pandas 3.0) this will never work to update the original DataFrame or Series, because the intermediate object on which we are setting values will behave as a copy.\n",
      "A typical example is when you are setting values in a column of a DataFrame, like:\n",
      "\n",
      "df[\"col\"][row_indexer] = value\n",
      "\n",
      "Use `df.loc[row_indexer, \"col\"] = values` instead, to perform the assignment in a single step and ensure this keeps updating the original `df`.\n",
      "\n",
      "See the caveats in the documentation: https://pandas.pydata.org/pandas-docs/stable/user_guide/indexing.html#returning-a-view-versus-a-copy\n",
      "\n",
      "  df2['retreived cite'][i] = inputmodules.getdoifromcite(citation)\n",
      "C:\\Users\\skamb\\AppData\\Local\\Temp\\ipykernel_24540\\2711963968.py:18: FutureWarning: ChainedAssignmentError: behaviour will change in pandas 3.0!\n",
      "You are setting values through chained assignment. Currently this works in certain cases, but when using Copy-on-Write (which will become the default behaviour in pandas 3.0) this will never work to update the original DataFrame or Series, because the intermediate object on which we are setting values will behave as a copy.\n",
      "A typical example is when you are setting values in a column of a DataFrame, like:\n",
      "\n",
      "df[\"col\"][row_indexer] = value\n",
      "\n",
      "Use `df.loc[row_indexer, \"col\"] = values` instead, to perform the assignment in a single step and ensure this keeps updating the original `df`.\n",
      "\n",
      "See the caveats in the documentation: https://pandas.pydata.org/pandas-docs/stable/user_guide/indexing.html#returning-a-view-versus-a-copy\n",
      "\n",
      "  df2['retreived cite'][i] = inputmodules.getdoifromcite(citation)\n",
      "C:\\Users\\skamb\\AppData\\Local\\Temp\\ipykernel_24540\\2711963968.py:18: FutureWarning: ChainedAssignmentError: behaviour will change in pandas 3.0!\n",
      "You are setting values through chained assignment. Currently this works in certain cases, but when using Copy-on-Write (which will become the default behaviour in pandas 3.0) this will never work to update the original DataFrame or Series, because the intermediate object on which we are setting values will behave as a copy.\n",
      "A typical example is when you are setting values in a column of a DataFrame, like:\n",
      "\n",
      "df[\"col\"][row_indexer] = value\n",
      "\n",
      "Use `df.loc[row_indexer, \"col\"] = values` instead, to perform the assignment in a single step and ensure this keeps updating the original `df`.\n",
      "\n",
      "See the caveats in the documentation: https://pandas.pydata.org/pandas-docs/stable/user_guide/indexing.html#returning-a-view-versus-a-copy\n",
      "\n",
      "  df2['retreived cite'][i] = inputmodules.getdoifromcite(citation)\n",
      "C:\\Users\\skamb\\AppData\\Local\\Temp\\ipykernel_24540\\2711963968.py:18: FutureWarning: ChainedAssignmentError: behaviour will change in pandas 3.0!\n",
      "You are setting values through chained assignment. Currently this works in certain cases, but when using Copy-on-Write (which will become the default behaviour in pandas 3.0) this will never work to update the original DataFrame or Series, because the intermediate object on which we are setting values will behave as a copy.\n",
      "A typical example is when you are setting values in a column of a DataFrame, like:\n",
      "\n",
      "df[\"col\"][row_indexer] = value\n",
      "\n",
      "Use `df.loc[row_indexer, \"col\"] = values` instead, to perform the assignment in a single step and ensure this keeps updating the original `df`.\n",
      "\n",
      "See the caveats in the documentation: https://pandas.pydata.org/pandas-docs/stable/user_guide/indexing.html#returning-a-view-versus-a-copy\n",
      "\n",
      "  df2['retreived cite'][i] = inputmodules.getdoifromcite(citation)\n",
      "C:\\Users\\skamb\\AppData\\Local\\Temp\\ipykernel_24540\\2711963968.py:18: FutureWarning: ChainedAssignmentError: behaviour will change in pandas 3.0!\n",
      "You are setting values through chained assignment. Currently this works in certain cases, but when using Copy-on-Write (which will become the default behaviour in pandas 3.0) this will never work to update the original DataFrame or Series, because the intermediate object on which we are setting values will behave as a copy.\n",
      "A typical example is when you are setting values in a column of a DataFrame, like:\n",
      "\n",
      "df[\"col\"][row_indexer] = value\n",
      "\n",
      "Use `df.loc[row_indexer, \"col\"] = values` instead, to perform the assignment in a single step and ensure this keeps updating the original `df`.\n",
      "\n",
      "See the caveats in the documentation: https://pandas.pydata.org/pandas-docs/stable/user_guide/indexing.html#returning-a-view-versus-a-copy\n",
      "\n",
      "  df2['retreived cite'][i] = inputmodules.getdoifromcite(citation)\n"
     ]
    }
   ],
   "source": [
    "csv_file = \"csv-Calcitonin-set-filtered.csv\"\n",
    "df = pd.read_csv(csv_file, encoding = 'utf-8')\n",
    "df = df.head(10)\n",
    "df\n",
    "\n",
    "df2 = pd.DataFrame()\n",
    "\n",
    "df2['Citation'] = df.Citation\n",
    "\n",
    "doi = []\n",
    "for i in range(len(df)):\n",
    "    doi.append('')\n",
    "\n",
    "df2['retreived cite'] = doi\n",
    "\n",
    "for i in range (0, len(df)):\n",
    "    citation = df['Citation'][i]\n",
    "    df2['retreived cite'][i] = inputmodules.getdoifromcite(citation)"
   ]
  },
  {
   "cell_type": "code",
   "execution_count": 3,
   "id": "e14e6252",
   "metadata": {},
   "outputs": [],
   "source": [
    "df2.to_csv('Citation_to_DOI.csv')"
   ]
  }
 ],
 "metadata": {
  "kernelspec": {
   "display_name": "Python 3 (ipykernel)",
   "language": "python",
   "name": "python3"
  },
  "language_info": {
   "codemirror_mode": {
    "name": "ipython",
    "version": 3
   },
   "file_extension": ".py",
   "mimetype": "text/x-python",
   "name": "python",
   "nbconvert_exporter": "python",
   "pygments_lexer": "ipython3",
   "version": "3.11.9"
  }
 },
 "nbformat": 4,
 "nbformat_minor": 5
}
